{
 "cells": [
  {
   "cell_type": "code",
   "execution_count": 11,
   "id": "575cbb2d-8ab5-4e90-8661-6697282a8268",
   "metadata": {},
   "outputs": [],
   "source": [
    "# Import All Required Packages\n",
    "import os\n",
    "import cv2\n",
    "import csv\n",
    "import numpy as np\n",
    "import matplotlib.pyplot as plt\n",
    "from pylab import rcParams\n",
    "rcParams['figure.figsize'] = 20, 10\n",
    "\n",
    "from sklearn.utils import shuffle\n",
    "from sklearn.model_selection import train_test_split\n",
    "\n",
    "import torch\n",
    "import torch.nn as nn\n",
    "import torch.nn.functional as F\n",
    "import torch.optim as optim\n",
    "from torchvision import transforms, datasets\n",
    "from torch.utils.data import DataLoader, Dataset\n",
    "from torchsummary import summary"
   ]
  },
  {
   "cell_type": "code",
   "execution_count": 12,
   "id": "44481f65-f75b-41be-873a-9f565f6dd9b1",
   "metadata": {},
   "outputs": [
    {
     "ename": "FileNotFoundError",
     "evalue": "[Errno 2] No such file or directory: './jaffe/'",
     "output_type": "error",
     "traceback": [
      "\u001b[0;31m---------------------------------------------------------------------------\u001b[0m",
      "\u001b[0;31mFileNotFoundError\u001b[0m                         Traceback (most recent call last)",
      "Cell \u001b[0;32mIn[12], line 20\u001b[0m\n\u001b[1;32m     17\u001b[0m img_extensions \u001b[38;5;241m=\u001b[39m [\u001b[38;5;124m'\u001b[39m\u001b[38;5;124m.tiff\u001b[39m\u001b[38;5;124m'\u001b[39m, \u001b[38;5;124m'\u001b[39m\u001b[38;5;124m.jpg\u001b[39m\u001b[38;5;124m'\u001b[39m, \u001b[38;5;124m'\u001b[39m\u001b[38;5;124m.png\u001b[39m\u001b[38;5;124m'\u001b[39m]\n\u001b[1;32m     19\u001b[0m \u001b[38;5;66;03m# ディレクトリ内のファイルを直接処理して画像を読み込み、リサイズしてリストに追加\u001b[39;00m\n\u001b[0;32m---> 20\u001b[0m \u001b[38;5;28;01mfor\u001b[39;00m img_file \u001b[38;5;129;01min\u001b[39;00m os\u001b[38;5;241m.\u001b[39mlistdir(data_path):\n\u001b[1;32m     21\u001b[0m     \u001b[38;5;28;01mif\u001b[39;00m \u001b[38;5;28many\u001b[39m(img_file\u001b[38;5;241m.\u001b[39mendswith(ext) \u001b[38;5;28;01mfor\u001b[39;00m ext \u001b[38;5;129;01min\u001b[39;00m img_extensions):\n\u001b[1;32m     22\u001b[0m         input_img \u001b[38;5;241m=\u001b[39m cv2\u001b[38;5;241m.\u001b[39mimread(os\u001b[38;5;241m.\u001b[39mpath\u001b[38;5;241m.\u001b[39mjoin(data_path, img_file))\n",
      "\u001b[0;31mFileNotFoundError\u001b[0m: [Errno 2] No such file or directory: './jaffe/'"
     ]
    }
   ],
   "source": [
    "# 2.Read Images from the data path\n",
    "# データパスの設定\n",
    "data_path = './jaffe/'\n",
    "\n",
    "img_rows=256\n",
    "img_cols=256\n",
    "num_channel=1\n",
    "\n",
    "# hyper parameters\n",
    "num_epoch=10\n",
    "batch_size=32\n",
    "lr = 0.0001\n",
    "\n",
    "img_data_list = []\n",
    "\n",
    "# 画像ファイルの拡張子を指定\n",
    "img_extensions = ['.tiff', '.jpg', '.png']\n",
    "\n",
    "# ディレクトリ内のファイルを直接処理して画像を読み込み、リサイズしてリストに追加\n",
    "for img_file in os.listdir(data_path):\n",
    "    if any(img_file.endswith(ext) for ext in img_extensions):\n",
    "        input_img = cv2.imread(os.path.join(data_path, img_file))\n",
    "        if input_img is not None:\n",
    "            input_img_resize = cv2.resize(input_img, (128, 128))\n",
    "            img_data_list.append(input_img_resize)\n",
    "\n",
    "img_data = np.array(img_data_list)\n",
    "img_data = img_data.astype('float32')\n",
    "img_data = img_data/255\n",
    "print(f\"Total images loaded: {img_data.shape[0]}\")\n",
    "img_data.shape"
   ]
  },
  {
   "cell_type": "code",
   "execution_count": 28,
   "id": "654e82ed",
   "metadata": {},
   "outputs": [
    {
     "name": "stdout",
     "output_type": "stream",
     "text": [
      "ANGRY: 30 images\n",
      "DISGUST: 29 images\n",
      "FEAR: 33 images\n",
      "HAPPY: 32 images\n",
      "NEUTRAL: 31 images\n",
      "SAD: 32 images\n",
      "SURPRISE: 26 images\n"
     ]
    }
   ],
   "source": [
    "# 3.Define the number of classes\n",
    "num_classes = 7\n",
    "\n",
    "num_of_samples = img_data.shape[0]\n",
    "labels = np.ones((num_of_samples,),dtype='int64')\n",
    "\n",
    "# Fixed label indexing - corrected the ranges to avoid gaps\n",
    "labels[0:30]=0   # ANGRY (30 images)\n",
    "labels[30:59]=1  # DISGUST (29 images) \n",
    "labels[59:92]=2  # FEAR (33 images) - fixed gap\n",
    "labels[92:124]=3 # HAPPY (32 images) - fixed indexing\n",
    "labels[124:155]=4 # NEUTRAL (31 images) - fixed indexing\n",
    "labels[155:187]=5 # SAD (32 images) - fixed indexing\n",
    "labels[187:]=6   # SURPRISE (remaining images)\n",
    "\n",
    "names = ['ANGRY','DISGUST','FEAR','HAPPY','NEUTRAL','SAD','SURPRISE']\n",
    "\n",
    "def getLabel(id):\n",
    "    return ['ANGRY','DISGUST','FEAR','HAPPY','NEUTRAL','SAD','SURPRISE'][id]\n",
    "\n",
    "# Print label distribution\n",
    "unique, counts = np.unique(labels, return_counts=True)\n",
    "for i, (label, count) in enumerate(zip(unique, counts)):\n",
    "    print(f\"{names[label]}: {count} images\")"
   ]
  },
  {
   "cell_type": "code",
   "execution_count": 30,
   "id": "0294c558",
   "metadata": {},
   "outputs": [],
   "source": [
    "class JAFFEDataset(torch.utils.data.Dataset):\n",
    "    def __init__(self, images, labels):\n",
    "        self.images = torch.FloatTensor(images)\n",
    "        # Convert labels to LongTensor for CrossEntropyLoss (class indices, not one-hot)\n",
    "        if len(labels.shape) > 1 and labels.shape[1] > 1:\n",
    "            # If labels are one-hot encoded, convert to class indices\n",
    "            self.labels = torch.argmax(labels, dim=1).long()\n",
    "        else:\n",
    "            # If labels are already class indices\n",
    "            self.labels = torch.LongTensor(labels)\n",
    "        \n",
    "    def __len__(self):\n",
    "        return len(self.images)\n",
    "    \n",
    "    def __getitem__(self, idx):\n",
    "        image = self.images[idx]\n",
    "        label = self.labels[idx]\n",
    "     \n",
    "        return image, label"
   ]
  },
  {
   "cell_type": "code",
   "execution_count": 32,
   "id": "aec1f47f",
   "metadata": {},
   "outputs": [
    {
     "name": "stdout",
     "output_type": "stream",
     "text": [
      "<torch.utils.data.dataloader.DataLoader object at 0x369506330>\n",
      "<torch.utils.data.dataloader.DataLoader object at 0x3694f8bc0>\n"
     ]
    }
   ],
   "source": [
    "# 4.Prepare the dataset - Use class indices instead of one-hot encoding for CrossEntropyLoss\n",
    "\n",
    "# Shuffle the dataset\n",
    "x, y = shuffle(img_data, labels, random_state=2)\n",
    "\n",
    "# Split the dataset\n",
    "X_train, X_test, y_train, y_test = train_test_split(x, y, test_size=0.15, random_state=2)\n",
    "\n",
    "# 画像データをPyTorchの形式に変換（チャンネルを先頭に）\n",
    "X_train = np.transpose(X_train, (0, 3, 1, 2))\n",
    "X_test = np.transpose(X_test, (0, 3, 1, 2))\n",
    "\n",
    "# データセットの作成\n",
    "train_dataset = JAFFEDataset(X_train, y_train)\n",
    "test_dataset = JAFFEDataset(X_test, y_test)\n",
    "\n",
    "# DataLoaderの作成\n",
    "train_loader = DataLoader(train_dataset, batch_size=batch_size, shuffle=True)\n",
    "test_loader = DataLoader(test_dataset, batch_size=batch_size, shuffle=False)\n",
    "\n",
    "print(train_loader)\n",
    "print(test_loader)"
   ]
  },
  {
   "cell_type": "code",
   "execution_count": 7,
   "id": "9d23723c",
   "metadata": {},
   "outputs": [],
   "source": [
    "# 5.make CNN model - Fixed: removed softmax from forward pass\n",
    "class CNNModel(nn.Module):\n",
    "    def __init__(self, num_classes):\n",
    "        super(CNNModel, self).__init__()\n",
    "        self.conv1 = nn.Conv2d(3, 32, kernel_size=3, padding=1)\n",
    "        self.pool1 = nn.MaxPool2d(2, 2)\n",
    "\n",
    "        self.conv2 = nn.Conv2d(32, 64, kernel_size=3, padding=1)\n",
    "        self.pool2 = nn.MaxPool2d(2, 2)\n",
    "        \n",
    "        self.fc1 = nn.Linear(64 * 32 * 32, 128)  # Fixed calculation: 128/4 = 32\n",
    "        self.dropout = nn.Dropout(0.5)\n",
    "        self.fc2 = nn.Linear(128, num_classes)\n",
    "        \n",
    "    def forward(self, x):\n",
    "        x = self.pool1(F.relu(self.conv1(x)))\n",
    "        x = self.pool2(F.relu(self.conv2(x)))\n",
    "        x = x.view(-1, 64 * 32 * 32)  # Fixed calculation\n",
    "        x = F.relu(self.fc1(x))\n",
    "        x = self.dropout(x)\n",
    "        x = self.fc2(x)\n",
    "        \n",
    "        return x"
   ]
  },
  {
   "cell_type": "code",
   "execution_count": 8,
   "id": "f7881c3c",
   "metadata": {},
   "outputs": [
    {
     "data": {
      "text/plain": [
       "CNNModel(\n",
       "  (conv1): Conv2d(3, 32, kernel_size=(3, 3), stride=(1, 1), padding=(1, 1))\n",
       "  (pool1): MaxPool2d(kernel_size=2, stride=2, padding=0, dilation=1, ceil_mode=False)\n",
       "  (conv2): Conv2d(32, 64, kernel_size=(3, 3), stride=(1, 1), padding=(1, 1))\n",
       "  (pool2): MaxPool2d(kernel_size=2, stride=2, padding=0, dilation=1, ceil_mode=False)\n",
       "  (fc1): Linear(in_features=65536, out_features=128, bias=True)\n",
       "  (dropout): Dropout(p=0.5, inplace=False)\n",
       "  (fc2): Linear(in_features=128, out_features=7, bias=True)\n",
       ")"
      ]
     },
     "execution_count": 8,
     "metadata": {},
     "output_type": "execute_result"
    }
   ],
   "source": [
    "model = CNNModel(num_classes)\n",
    "model"
   ]
  },
  {
   "cell_type": "code",
   "execution_count": 9,
   "id": "a47b9b95",
   "metadata": {},
   "outputs": [],
   "source": [
    "criterion = nn.CrossEntropyLoss()\n",
    "optimizer = torch.optim.Adam(model.parameters(), lr=lr)"
   ]
  },
  {
   "cell_type": "code",
   "execution_count": 10,
   "id": "b63315af",
   "metadata": {},
   "outputs": [
    {
     "name": "stdout",
     "output_type": "stream",
     "text": [
      "----------------------------------------------------------------\n",
      "        Layer (type)               Output Shape         Param #\n",
      "================================================================\n",
      "            Conv2d-1         [-1, 32, 128, 128]             896\n",
      "         MaxPool2d-2           [-1, 32, 64, 64]               0\n",
      "            Conv2d-3           [-1, 64, 64, 64]          18,496\n",
      "         MaxPool2d-4           [-1, 64, 32, 32]               0\n",
      "            Linear-5                  [-1, 128]       8,388,736\n",
      "           Dropout-6                  [-1, 128]               0\n",
      "            Linear-7                    [-1, 7]             903\n",
      "================================================================\n",
      "Total params: 8,409,031\n",
      "Trainable params: 8,409,031\n",
      "Non-trainable params: 0\n",
      "----------------------------------------------------------------\n",
      "Input size (MB): 0.19\n",
      "Forward/backward pass size (MB): 7.50\n",
      "Params size (MB): 32.08\n",
      "Estimated Total Size (MB): 39.77\n",
      "----------------------------------------------------------------\n"
     ]
    }
   ],
   "source": [
    "# see the summary of the model\n",
    "summary(model, input_size=(3, 128, 128))"
   ]
  },
  {
   "cell_type": "code",
   "execution_count": 16,
   "id": "13adc496",
   "metadata": {},
   "outputs": [
    {
     "name": "stdout",
     "output_type": "stream",
     "text": [
      "outputs: torch.Size([32, 7])\n",
      "labels: torch.Size([32])\n",
      "labels.shape == outputs.shape[0]: True\n",
      "Sample outputs: tensor([-0.0118, -0.1981, -0.0071,  0.1226, -0.0356,  0.0821, -0.1281])\n",
      "Sample labels: tensor([2, 3, 4, 3, 3, 3, 6, 2])\n",
      "Test loss: 1.9214\n",
      "✓ Model and data shapes are compatible!\n"
     ]
    }
   ],
   "source": [
    "# Test the model with a batch to verify shapes\n",
    "images, labels = next(iter(train_loader))\n",
    "\n",
    "# モデルを評価モードに設定\n",
    "model.eval()\n",
    "\n",
    "# 勾配計算を無効化\n",
    "with torch.no_grad():\n",
    "    # 順伝播\n",
    "    outputs = model(images)\n",
    "    \n",
    "# 結果を表示\n",
    "print(\"outputs:\", outputs.shape)\n",
    "print('labels:', labels.shape)\n",
    "print('labels.shape == outputs.shape[0]:', labels.shape[0] == outputs.shape[0])\n",
    "print('Sample outputs:', outputs[0])\n",
    "print('Sample labels:', labels[:8])\n",
    "\n",
    "# Test loss calculation\n",
    "test_loss = criterion(outputs, labels)\n",
    "print(f'Test loss: {test_loss.item():.4f}')\n",
    "print('✓ Model and data shapes are compatible!')"
   ]
  },
  {
   "cell_type": "code",
   "execution_count": 12,
   "id": "5b06b65b",
   "metadata": {},
   "outputs": [],
   "source": [
    "# モデル保存用のディレクトリを作成\n",
    "os.makedirs('checkpoints', exist_ok=True)\n",
    "\n",
    "# 学習の進捗を記録するためのCSVファイルを設定\n",
    "csv_filename = 'model_train_new.csv'\n",
    "with open(csv_filename, 'w', newline='') as f:\n",
    "    writer = csv.writer(f)\n",
    "    writer.writerow(['epoch', 'loss', 'accuracy', 'val_loss', 'val_accuracy'])\n",
    "\n",
    "# 最良のモデルを保存するための変数\n",
    "best_val_loss = float('inf')\n",
    "train_loss_list = []\n",
    "train_acc_list = []\n",
    "val_loss_list = []\n",
    "val_acc_list = []\n",
    "\n",
    "# Fixed training function\n",
    "def train_model(model, train_loader, val_loader, criterion, optimizer, num_epochs):\n",
    "    device = torch.device('mps' if torch.backends.mps.is_available() else 'cpu')\n",
    "    print(f'Using device: {device}')\n",
    "    model = model.to(device)\n",
    "    \n",
    "    global best_val_loss\n",
    "    \n",
    "    for epoch in range(num_epochs):\n",
    "        # 学習モード\n",
    "        model.train()\n",
    "        train_loss = 0\n",
    "        train_correct = 0\n",
    "        train_total = 0\n",
    "        \n",
    "        for images, labels in train_loader:\n",
    "            images, labels = images.to(device), labels.to(device)\n",
    "            \n",
    "            # 勾配をゼロにリセット\n",
    "            optimizer.zero_grad()\n",
    "            \n",
    "            # 順伝播\n",
    "            outputs = model(images)\n",
    "            loss = criterion(outputs, labels)\n",
    "            \n",
    "            # 逆伝播と最適化\n",
    "            loss.backward()\n",
    "            optimizer.step()\n",
    "            \n",
    "            # 統計情報の更新\n",
    "            train_loss += loss.item()\n",
    "            _, predicted = torch.max(outputs.data, 1)\n",
    "            train_total += labels.size(0)\n",
    "            train_correct += (predicted == labels).sum().item()\n",
    "        \n",
    "        # 検証モード\n",
    "        model.eval()\n",
    "        val_loss = 0\n",
    "        val_correct = 0\n",
    "        val_total = 0\n",
    "        \n",
    "        with torch.no_grad():\n",
    "            for images, labels in val_loader:\n",
    "                images, labels = images.to(device), labels.to(device)\n",
    "                outputs = model(images)\n",
    "                loss = criterion(outputs, labels)\n",
    "                \n",
    "                val_loss += loss.item()\n",
    "                _, predicted = torch.max(outputs.data, 1)\n",
    "                val_total += labels.size(0)\n",
    "                val_correct += (predicted == labels).sum().item()\n",
    "        \n",
    "        # エポックごとの統計情報を計算\n",
    "        train_loss = train_loss / len(train_loader)\n",
    "        train_acc = 100 * train_correct / train_total\n",
    "        val_loss = val_loss / len(val_loader)\n",
    "        val_acc = 100 * val_correct / val_total\n",
    "        \n",
    "        # リストに追加\n",
    "        train_loss_list.append(train_loss)\n",
    "        train_acc_list.append(train_acc)\n",
    "        val_loss_list.append(val_loss)\n",
    "        val_acc_list.append(val_acc)\n",
    "        \n",
    "        # 結果をCSVに保存\n",
    "        with open(csv_filename, 'a', newline='') as f:\n",
    "            writer = csv.writer(f)\n",
    "            writer.writerow([epoch, train_loss, train_acc, val_loss, val_acc])\n",
    "        \n",
    "        # 最良のモデルを保存\n",
    "        if val_loss < best_val_loss:\n",
    "            best_val_loss = val_loss\n",
    "            torch.save(model.state_dict(), f'checkpoints/best_model.pth')\n",
    "        \n",
    "        # 進捗を表示\n",
    "        print(f'Epoch [{epoch+1}/{num_epochs}]')\n",
    "        print(f'Train Loss: {train_loss:.4f}, Train Acc: {train_acc:.2f}%')\n",
    "        print(f'Val Loss: {val_loss:.4f}, Val Acc: {val_acc:.2f}%')\n",
    "        print('-' * 50)\n",
    "    \n",
    "    return train_loss_list, train_acc_list, val_loss_list, val_acc_list"
   ]
  },
  {
   "cell_type": "code",
   "execution_count": 13,
   "id": "e0009eda",
   "metadata": {},
   "outputs": [
    {
     "name": "stdout",
     "output_type": "stream",
     "text": [
      "Starting training...\n",
      "Using device: cpu\n",
      "Epoch [1/10]\n",
      "Train Loss: 1.9615, Train Acc: 11.05%\n",
      "Val Loss: 1.9910, Val Acc: 9.38%\n",
      "--------------------------------------------------\n",
      "Epoch [2/10]\n",
      "Train Loss: 1.9498, Train Acc: 13.26%\n",
      "Val Loss: 1.9502, Val Acc: 18.75%\n",
      "--------------------------------------------------\n",
      "Epoch [3/10]\n",
      "Train Loss: 1.9431, Train Acc: 17.13%\n",
      "Val Loss: 1.9578, Val Acc: 18.75%\n",
      "--------------------------------------------------\n",
      "Epoch [4/10]\n",
      "Train Loss: 1.9408, Train Acc: 18.23%\n",
      "Val Loss: 1.9691, Val Acc: 18.75%\n",
      "--------------------------------------------------\n",
      "Epoch [5/10]\n",
      "Train Loss: 1.9307, Train Acc: 18.78%\n",
      "Val Loss: 1.9524, Val Acc: 9.38%\n",
      "--------------------------------------------------\n",
      "Epoch [6/10]\n",
      "Train Loss: 1.9164, Train Acc: 19.89%\n",
      "Val Loss: 1.9587, Val Acc: 15.62%\n",
      "--------------------------------------------------\n",
      "Epoch [7/10]\n",
      "Train Loss: 1.9288, Train Acc: 20.99%\n",
      "Val Loss: 1.9571, Val Acc: 15.62%\n",
      "--------------------------------------------------\n",
      "Epoch [8/10]\n",
      "Train Loss: 1.9038, Train Acc: 20.44%\n",
      "Val Loss: 1.9616, Val Acc: 15.62%\n",
      "--------------------------------------------------\n",
      "Epoch [9/10]\n",
      "Train Loss: 1.9021, Train Acc: 26.52%\n",
      "Val Loss: 1.9544, Val Acc: 15.62%\n",
      "--------------------------------------------------\n",
      "Epoch [10/10]\n",
      "Train Loss: 1.9072, Train Acc: 21.55%\n",
      "Val Loss: 1.9720, Val Acc: 18.75%\n",
      "--------------------------------------------------\n",
      "Training completed!\n"
     ]
    }
   ],
   "source": [
    "# Start training\n",
    "print(\"Starting training...\")\n",
    "train_losses, train_accs, val_losses, val_accs = train_model(\n",
    "    model, train_loader, test_loader, criterion, optimizer, num_epoch\n",
    ")\n",
    "print(\"Training completed!\")"
   ]
  },
  {
   "cell_type": "code",
   "execution_count": 14,
   "id": "visualization",
   "metadata": {},
   "outputs": [
    {
     "data": {
      "image/png": "[encoded data removed]",
      "text/plain": [
       "<Figure size 1500x500 with 2 Axes>"
      ]
     },
     "metadata": {},
     "output_type": "display_data"
    },
    {
     "name": "stdout",
     "output_type": "stream",
     "text": [
      "Best validation accuracy: 18.75%\n",
      "Final training accuracy: 21.55%\n",
      "Final validation accuracy: 18.75%\n"
     ]
    }
   ],
   "source": [
    "# Plot training results\n",
    "plt.figure(figsize=(15, 5))\n",
    "\n",
    "# Plot loss\n",
    "plt.subplot(1, 2, 1)\n",
    "plt.plot(train_losses, label='Training Loss')\n",
    "plt.plot(val_losses, label='Validation Loss')\n",
    "plt.title('Model Loss')\n",
    "plt.xlabel('Epoch')\n",
    "plt.ylabel('Loss')\n",
    "plt.legend()\n",
    "\n",
    "# Plot accuracy\n",
    "plt.subplot(1, 2, 2)\n",
    "plt.plot(train_accs, label='Training Accuracy')\n",
    "plt.plot(val_accs, label='Validation Accuracy')\n",
    "plt.title('Model Accuracy')\n",
    "plt.xlabel('Epoch')\n",
    "plt.ylabel('Accuracy (%)')\n",
    "plt.legend()\n",
    "\n",
    "plt.tight_layout()\n",
    "plt.show()\n",
    "\n",
    "print(f\"Best validation accuracy: {max(val_accs):.2f}%\")\n",
    "print(f\"Final training accuracy: {train_accs[-1]:.2f}%\")\n",
    "print(f\"Final validation accuracy: {val_accs[-1]:.2f}%\")"
   ]
  },
  {
   "cell_type": "code",
   "execution_count": 19,
   "id": "evaluation",
   "metadata": {},
   "outputs": [
    {
     "name": "stdout",
     "output_type": "stream",
     "text": [
      "[3, 3, 5, 5, 5, 3, 5, 3, 5, 5, 3, 3, 3, 3, 5, 5, 3, 5, 5, 3, 5, 3, 5, 3, 5, 3, 5, 3, 5, 5, 3, 5]\n",
      "[4, 0, 5, 5, 2, 3, 2, 4, 2, 2, 2, 1, 3, 2, 5, 1, 0, 4, 0, 1, 0, 2, 4, 2, 0, 0, 5, 2, 1, 1, 2, 3]\n",
      "['ANGRY', 'DISGUST', 'FEAR', 'HAPPY', 'NEUTRAL', 'SAD', 'SURPRISE']\n"
     ]
    },
    {
     "name": "stderr",
     "output_type": "stream",
     "text": [
      "/var/folders/f0/7v890vfn2jq6v3q8ndhy5bth0000gn/T/ipykernel_6038/527063366.py:2: FutureWarning: You are using `torch.load` with `weights_only=False` (the current default value), which uses the default pickle module implicitly. It is possible to construct malicious pickle data which will execute arbitrary code during unpickling (See https://github.com/pytorch/pytorch/blob/main/SECURITY.md#untrusted-models for more details). In a future release, the default value for `weights_only` will be flipped to `True`. This limits the functions that could be executed during unpickling. Arbitrary objects will no longer be allowed to be loaded via this mode unless they are explicitly allowlisted by the user via `torch.serialization.add_safe_globals`. We recommend you start setting `weights_only=True` for any use case where you don't have full control of the loaded file. Please open an issue on GitHub for any issues related to this experimental feature.\n",
      "  model.load_state_dict(torch.load('checkpoints/best_model.pth'))\n"
     ]
    },
    {
     "data": {
      "text/plain": [
       "'\\n# Calculate accuracy\\naccuracy = np.mean(np.array(all_predictions) == np.array(all_labels)) * 100\\nprint(f\"Test Accuracy: {accuracy:.2f}%\")\\n\\n# Print classification report\\nfrom sklearn.metrics import classification_report, confusion_matrix\\nprint(\"\\nClassification Report:\")\\nprint(classification_report(all_labels, all_predictions, target_names=names))\\n\\n# Plot confusion matrix\\ncm = confusion_matrix(all_labels, all_predictions)\\nplt.figure(figsize=(8, 6))\\nplt.imshow(cm, interpolation=\\'nearest\\', cmap=plt.cm.Blues)\\nplt.title(\\'Confusion Matrix\\')\\nplt.colorbar()\\ntick_marks = np.arange(len(names))\\nplt.xticks(tick_marks, names, rotation=45)\\nplt.yticks(tick_marks, names)\\nplt.ylabel(\\'True Label\\')\\nplt.xlabel(\\'Predicted Label\\')\\nplt.tight_layout()\\nplt.show()\\n'"
      ]
     },
     "execution_count": 19,
     "metadata": {},
     "output_type": "execute_result"
    }
   ],
   "source": [
    "# Load best model and evaluate\n",
    "model.load_state_dict(torch.load('checkpoints/best_model.pth'))\n",
    "model.eval()\n",
    "\n",
    "# Evaluate on test set\n",
    "device = torch.device('mps' if torch.backends.mps.is_available() else 'cpu')\n",
    "model = model.to(device)\n",
    "\n",
    "all_predictions = []\n",
    "all_labels = []\n",
    "\n",
    "with torch.no_grad():\n",
    "    for images, labels in test_loader:\n",
    "        images, labels = images.to(device), labels.to(device)\n",
    "        outputs = model(images)\n",
    "        _, predicted = torch.max(outputs, 1)\n",
    "        \n",
    "        all_predictions.extend(predicted.cpu().numpy())\n",
    "        all_labels.extend(labels.cpu().numpy())\n",
    "\n",
    "print(all_predictions)\n",
    "print(all_labels)\n",
    "print(names)\n",
    "\n",
    "# Calculate accuracy\n",
    "accuracy = np.mean(np.array(all_predictions) == np.array(all_labels)) * 100\n",
    "print(f\"Test Accuracy: {accuracy:.2f}%\")\n",
    "\n",
    "# Print classification report\n",
    "from sklearn.metrics import classification_report, confusion_matrix\n",
    "print(\"\\nClassification Report:\")\n",
    "print(classification_report(all_labels, all_predictions, target_names=names))\n",
    "\n",
    "# Plot confusion matrix\n",
    "cm = confusion_matrix(all_labels, all_predictions)\n",
    "plt.figure(figsize=(8, 6))\n",
    "plt.imshow(cm, interpolation='nearest', cmap=plt.cm.Blues)\n",
    "plt.title('Confusion Matrix')\n",
    "plt.colorbar()\n",
    "tick_marks = np.arange(len(names))\n",
    "plt.xticks(tick_marks, names, rotation=45)\n",
    "plt.yticks(tick_marks, names)\n",
    "plt.ylabel('True Label')\n",
    "plt.xlabel('Predicted Label')\n",
    "plt.tight_layout()\n",
    "plt.show()\n"
   ]
  },
  {
   "cell_type": "code",
   "execution_count": null,
   "id": "13e48932",
   "metadata": {},
   "outputs": [],
   "source": []
  }
 ],
 "metadata": {
  "kernelspec": {
   "display_name": "Python 3 (ipykernel)",
   "language": "python",
   "name": "python3"
  },
  "language_info": {
   "codemirror_mode": {
    "name": "ipython",
    "version": 3
   },
   "file_extension": ".py",
   "mimetype": "text/x-python",
   "name": "python",
   "nbconvert_exporter": "python",
   "pygments_lexer": "ipython3",
   "version": "3.12.7"
  }
 },
 "nbformat": 4,
 "nbformat_minor": 5
}
