{
 "cells": [
  {
   "cell_type": "code",
   "execution_count": 1,
   "metadata": {},
   "outputs": [],
   "source": [
    "import os\n",
    "import cv2\n",
    "import numpy as np\n",
    "from PIL import Image\n",
    "from torchvision import transforms\n",
    "from torchvision.utils import save_image\n",
    "\n",
    "augmentation = transforms.Compose([\n",
    "    transforms.RandomAffine(degrees=10, translate=(0.1, 0.1), scale=(0.9, 1.1), shear=10),\n",
    "    transforms.RandomHorizontalFlip(),\n",
    "    transforms.RandomVerticalFlip(),\n",
    "    transforms.ColorJitter(brightness=0.3),\n",
    "    transforms.Resize((128, 128)),\n",
    "    transforms.Grayscale(),\n",
    "    transforms.ToTensor()\n",
    "])"
   ]
  },
  {
   "cell_type": "code",
   "execution_count": 2,
   "metadata": {},
   "outputs": [],
   "source": [
    "# set the path\n",
    "original_data_path = './jaffe/'  # folder of original images\n",
    "augmented_data_path = './jaffe_augmented/' # folder of augmented images\n",
    "os.makedirs(augmented_data_path, exist_ok=True)\n",
    "\n",
    "# save the augumented images\n",
    "img_extensions = ['.tiff', '.jpg', '.png']\n",
    "for img_file in os.listdir(original_data_path):\n",
    "    if any(img_file.endswith(ext) for ext in img_extensions):\n",
    "        img_path = os.path.join(original_data_path, img_file)\n",
    "        img = Image.open(img_path).convert(\"L\")  # convert to grayscale\n",
    "        base_name = os.path.splitext(img_file)[0]\n",
    "\n",
    "        for i in range(21):  # original image + 20 variations\n",
    "            transformed_img = augmentation(img)\n",
    "            save_path = os.path.join(augmented_data_path, f\"{base_name}_{i}.jpg\")\n",
    "            save_image(transformed_img, save_path)"
   ]
  },
  {
   "cell_type": "code",
   "execution_count": 3,
   "metadata": {},
   "outputs": [
    {
     "name": "stdout",
     "output_type": "stream",
     "text": [
      "Total images loaded: 17934\n",
      "Label distribution:\n",
      "0: 630 images\n",
      "1: 1218 images\n",
      "2: 2016 images\n",
      "3: 2604 images\n",
      "4: 3150 images\n",
      "5: 3906 images\n",
      "6: 4410 images\n"
     ]
    }
   ],
   "source": [
    "# load the augumented images and label them\n",
    "img_data_list = []\n",
    "labels = []\n",
    "names = ['AN', 'DI', 'FE', 'HA', 'NE', 'SA', 'SU']\n",
    "\n",
    "# emotion name and label correspondence table\n",
    "emotion_map = {\n",
    "    'AN': 0,  # ANGRY\n",
    "    'DI': 1,  # DISGUST\n",
    "    'FE': 2,  # FEAR\n",
    "    'HA': 3,  # HAPPY\n",
    "    'NE': 4,  # NEUTRAL\n",
    "    'SA': 5,  # SAD\n",
    "    'SU': 6   # SURPRISE\n",
    "}\n",
    "\n",
    "# load the augumented images\n",
    "for img_file in os.listdir(augmented_data_path):\n",
    "    # check if the image is a jpg\n",
    "    if img_file.endswith('.jpg'):\n",
    "        img_path = os.path.join(augmented_data_path, img_file)\n",
    "        img = cv2.imread(img_path)\n",
    "        # convert to grayscale\n",
    "        gray_img = cv2.cvtColor(img, cv2.COLOR_BGR2GRAY)\n",
    "        # resize the image\n",
    "        resized_img = cv2.resize(gray_img, (128, 128))\n",
    "        # append the image to the list\n",
    "        img_data_list.append(resized_img)\n",
    "\n",
    "        # get the label from the file name\n",
    "        for code, label in emotion_map.items():\n",
    "            if code in img_file:\n",
    "                labels.append(label)\n",
    "                break\n",
    "\n",
    "            resized_img = cv2.resize(gray_img, (128, 128))\n",
    "            img_data_list.append(resized_img)\n",
    "\n",
    "            # extract the label from the file name\n",
    "            for code, label in emotion_map.items():\n",
    "                if code in img_file:\n",
    "                    labels.append(label)\n",
    "                    break\n",
    "\n",
    "# convert to numpy array and normalize\n",
    "img_data = np.array(img_data_list, dtype='float32') / 255.0\n",
    "img_data = np.expand_dims(img_data, axis=1)  # (N, 1, 128, 128)\n",
    "labels = np.array(labels, dtype='int64')\n",
    "\n",
    "# print the total number of images and the distribution of labels\n",
    "print(f\"Total images loaded: {img_data.shape[0]}\")\n",
    "print(\"Label distribution:\")\n",
    "unique, counts = np.unique(labels, return_counts=True)\n",
    "for label, count in zip(unique, counts):\n",
    "    print(f\"{label}: {count} images\")"
   ]
  },
  {
   "cell_type": "code",
   "execution_count": null,
   "metadata": {},
   "outputs": [],
   "source": []
  }
 ],
 "metadata": {
  "kernelspec": {
   "display_name": "Python 3",
   "language": "python",
   "name": "python3"
  },
  "language_info": {
   "codemirror_mode": {
    "name": "ipython",
    "version": 3
   },
   "file_extension": ".py",
   "mimetype": "text/x-python",
   "name": "python",
   "nbconvert_exporter": "python",
   "pygments_lexer": "ipython3",
   "version": "3.12.7"
  }
 },
 "nbformat": 4,
 "nbformat_minor": 2
}
